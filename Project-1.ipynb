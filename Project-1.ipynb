{
 "cells": [
  {
   "cell_type": "code",
   "execution_count": 1,
   "metadata": {},
   "outputs": [
    {
     "name": "stdout",
     "output_type": "stream",
     "text": [
      "Guess the number between 1 and 20:21\n",
      "Please enter the number between 1 and 20\n",
      "Guess the number between 1 and 20:0\n",
      "Please enter the number between 1 and 20\n",
      "Guess the number between 1 and 20:23\n",
      "Please enter the number between 1 and 20\n",
      "Guess the number between 1 and 20:3\n",
      "The number you entered is too low\n",
      "\n",
      "Guess the number between 1 and 20:23\n",
      "The number you entered is too high\n",
      "\n",
      "Guess the number between 1 and 20:13\n",
      "The number you entered is too low\n",
      "\n",
      "Guess the number between 1 and 20:15\n",
      "The number you entered is too low\n",
      "\n",
      "Guess the number between 1 and 20:19\n",
      "The number you entered is too low\n",
      "\n",
      "Guess the number between 1 and 20:20\n",
      "Congratulations you guessed it right\n"
     ]
    }
   ],
   "source": [
    "#importing a random module\n",
    "import random\n",
    "\n",
    "#generating a randon number between 1 and 20\n",
    "number=random.randint(1,20)\n",
    "\n",
    "#User should guess generated random number\n",
    "guess=int(input(\"Guess the number between 1 and 20:\"))\n",
    "\n",
    "while guess<1 or guess>20:\n",
    "    print(\"Please enter the number between 1 and 20\")\n",
    "    guess=int(input(\"Guess the number between 1 and 20:\"))\n",
    "\n",
    "    \n",
    "#using while loop for conditions\n",
    "\n",
    "while guess != number:\n",
    "    #if the number guessed is lower than random number\n",
    "    if guess < number:\n",
    "        print(\"The number you entered is too low\")\n",
    "        guess=int(input(\"\\nGuess the number between 1 and 20:\"))\n",
    "        #if the number guessed is high thn random number\n",
    "    elif guess > number:\n",
    "        print(\"The number you entered is too high\")\n",
    "        guess=int(input(\"\\nGuess the number between 1 and 20:\"))\n",
    "        \n",
    " #i the guessed number is equal to random number       \n",
    "print(\"Congratulations you guessed it right\")"
   ]
  },
  {
   "cell_type": "code",
   "execution_count": null,
   "metadata": {},
   "outputs": [],
   "source": [
    "\n",
    "for i in range(0,30):\n",
    "    if i<1 or i>20:\n",
    "        print(i)"
   ]
  },
  {
   "cell_type": "code",
   "execution_count": null,
   "metadata": {},
   "outputs": [],
   "source": []
  }
 ],
 "metadata": {
  "kernelspec": {
   "display_name": "Python 3",
   "language": "python",
   "name": "python3"
  },
  "language_info": {
   "codemirror_mode": {
    "name": "ipython",
    "version": 3
   },
   "file_extension": ".py",
   "mimetype": "text/x-python",
   "name": "python",
   "nbconvert_exporter": "python",
   "pygments_lexer": "ipython3",
   "version": "3.7.4"
  }
 },
 "nbformat": 4,
 "nbformat_minor": 2
}
